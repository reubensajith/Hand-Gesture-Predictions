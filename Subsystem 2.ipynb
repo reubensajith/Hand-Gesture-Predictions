{
 "cells": [
  {
   "cell_type": "markdown",
   "metadata": {},
   "source": [
    "# Gesture Recognition (Subsystem 2)"
   ]
  },
  {
   "cell_type": "code",
   "execution_count": 22,
   "metadata": {},
   "outputs": [],
   "source": [
    "import numpy as np\n",
    "import matplotlib.pyplot as plt\n",
    "import pandas as pd\n",
    "from IPython.display import display\n",
    "from sklearn.preprocessing import LabelEncoder\n",
    "from sklearn.metrics import classification_report\n",
    "from  sklearn.preprocessing import StandardScaler\n",
    "from sklearn.model_selection import train_test_split\n",
    "from sklearn.linear_model import LogisticRegression\n",
    "import tensorflow as tf\n",
    "from tensorflow import keras\n",
    "import sklearn\n",
    "from sklearn.metrics import plot_confusion_matrix\n",
    "from sklearn.metrics import confusion_matrix"
   ]
  },
  {
   "cell_type": "markdown",
   "metadata": {},
   "source": [
    "## Reading 'Dataset_Subsystem_2.csv' as Pandas Dataframe"
   ]
  },
  {
   "cell_type": "code",
   "execution_count": 23,
   "metadata": {},
   "outputs": [
    {
     "data": {
      "text/html": [
       "<div>\n",
       "<style scoped>\n",
       "    .dataframe tbody tr th:only-of-type {\n",
       "        vertical-align: middle;\n",
       "    }\n",
       "\n",
       "    .dataframe tbody tr th {\n",
       "        vertical-align: top;\n",
       "    }\n",
       "\n",
       "    .dataframe thead th {\n",
       "        text-align: right;\n",
       "    }\n",
       "</style>\n",
       "<table border=\"1\" class=\"dataframe\">\n",
       "  <thead>\n",
       "    <tr style=\"text-align: right;\">\n",
       "      <th></th>\n",
       "      <th>palm_root_x</th>\n",
       "      <th>palm_root_y</th>\n",
       "      <th>palm_thumb_1_x</th>\n",
       "      <th>palm_thumb_1_y</th>\n",
       "      <th>palm_thumb_2_x</th>\n",
       "      <th>palm_thumb_2_y</th>\n",
       "      <th>palm_thumb_3_x</th>\n",
       "      <th>palm_thumb_3_y</th>\n",
       "      <th>palm_index_1_x</th>\n",
       "      <th>palm_index_1_y</th>\n",
       "      <th>...</th>\n",
       "      <th>dorsal_ring_4_y</th>\n",
       "      <th>dorsal_pinky_1_x</th>\n",
       "      <th>dorsal_pinky_1_y</th>\n",
       "      <th>dorsal_pinky_2_x</th>\n",
       "      <th>dorsal_pinky_2_y</th>\n",
       "      <th>dorsal_pinky_3_x</th>\n",
       "      <th>dorsal_pinky_3_y</th>\n",
       "      <th>dorsal_pinky_4_x</th>\n",
       "      <th>dorsal_pinky_4_y</th>\n",
       "      <th>label</th>\n",
       "    </tr>\n",
       "  </thead>\n",
       "  <tbody>\n",
       "    <tr>\n",
       "      <th>0</th>\n",
       "      <td>494</td>\n",
       "      <td>295</td>\n",
       "      <td>412</td>\n",
       "      <td>266</td>\n",
       "      <td>376</td>\n",
       "      <td>243</td>\n",
       "      <td>346</td>\n",
       "      <td>225</td>\n",
       "      <td>434</td>\n",
       "      <td>186</td>\n",
       "      <td>...</td>\n",
       "      <td>0</td>\n",
       "      <td>0</td>\n",
       "      <td>0</td>\n",
       "      <td>0</td>\n",
       "      <td>0</td>\n",
       "      <td>0</td>\n",
       "      <td>0</td>\n",
       "      <td>0</td>\n",
       "      <td>0</td>\n",
       "      <td>openpalm</td>\n",
       "    </tr>\n",
       "    <tr>\n",
       "      <th>1</th>\n",
       "      <td>493</td>\n",
       "      <td>294</td>\n",
       "      <td>410</td>\n",
       "      <td>266</td>\n",
       "      <td>375</td>\n",
       "      <td>243</td>\n",
       "      <td>345</td>\n",
       "      <td>225</td>\n",
       "      <td>433</td>\n",
       "      <td>185</td>\n",
       "      <td>...</td>\n",
       "      <td>0</td>\n",
       "      <td>0</td>\n",
       "      <td>0</td>\n",
       "      <td>0</td>\n",
       "      <td>0</td>\n",
       "      <td>0</td>\n",
       "      <td>0</td>\n",
       "      <td>0</td>\n",
       "      <td>0</td>\n",
       "      <td>openpalm</td>\n",
       "    </tr>\n",
       "    <tr>\n",
       "      <th>2</th>\n",
       "      <td>493</td>\n",
       "      <td>294</td>\n",
       "      <td>409</td>\n",
       "      <td>267</td>\n",
       "      <td>374</td>\n",
       "      <td>243</td>\n",
       "      <td>344</td>\n",
       "      <td>225</td>\n",
       "      <td>432</td>\n",
       "      <td>185</td>\n",
       "      <td>...</td>\n",
       "      <td>0</td>\n",
       "      <td>0</td>\n",
       "      <td>0</td>\n",
       "      <td>0</td>\n",
       "      <td>0</td>\n",
       "      <td>0</td>\n",
       "      <td>0</td>\n",
       "      <td>0</td>\n",
       "      <td>0</td>\n",
       "      <td>openpalm</td>\n",
       "    </tr>\n",
       "    <tr>\n",
       "      <th>3</th>\n",
       "      <td>492</td>\n",
       "      <td>294</td>\n",
       "      <td>407</td>\n",
       "      <td>267</td>\n",
       "      <td>373</td>\n",
       "      <td>243</td>\n",
       "      <td>343</td>\n",
       "      <td>225</td>\n",
       "      <td>431</td>\n",
       "      <td>184</td>\n",
       "      <td>...</td>\n",
       "      <td>0</td>\n",
       "      <td>0</td>\n",
       "      <td>0</td>\n",
       "      <td>0</td>\n",
       "      <td>0</td>\n",
       "      <td>0</td>\n",
       "      <td>0</td>\n",
       "      <td>0</td>\n",
       "      <td>0</td>\n",
       "      <td>openpalm</td>\n",
       "    </tr>\n",
       "    <tr>\n",
       "      <th>4</th>\n",
       "      <td>491</td>\n",
       "      <td>294</td>\n",
       "      <td>405</td>\n",
       "      <td>267</td>\n",
       "      <td>373</td>\n",
       "      <td>243</td>\n",
       "      <td>342</td>\n",
       "      <td>225</td>\n",
       "      <td>430</td>\n",
       "      <td>183</td>\n",
       "      <td>...</td>\n",
       "      <td>0</td>\n",
       "      <td>0</td>\n",
       "      <td>0</td>\n",
       "      <td>0</td>\n",
       "      <td>0</td>\n",
       "      <td>0</td>\n",
       "      <td>0</td>\n",
       "      <td>0</td>\n",
       "      <td>0</td>\n",
       "      <td>openpalm</td>\n",
       "    </tr>\n",
       "  </tbody>\n",
       "</table>\n",
       "<p>5 rows × 81 columns</p>\n",
       "</div>"
      ],
      "text/plain": [
       "   palm_root_x  palm_root_y  palm_thumb_1_x  palm_thumb_1_y  palm_thumb_2_x  \\\n",
       "0          494          295             412             266             376   \n",
       "1          493          294             410             266             375   \n",
       "2          493          294             409             267             374   \n",
       "3          492          294             407             267             373   \n",
       "4          491          294             405             267             373   \n",
       "\n",
       "   palm_thumb_2_y  palm_thumb_3_x  palm_thumb_3_y  palm_index_1_x  \\\n",
       "0             243             346             225             434   \n",
       "1             243             345             225             433   \n",
       "2             243             344             225             432   \n",
       "3             243             343             225             431   \n",
       "4             243             342             225             430   \n",
       "\n",
       "   palm_index_1_y  ...  dorsal_ring_4_y  dorsal_pinky_1_x  dorsal_pinky_1_y  \\\n",
       "0             186  ...                0                 0                 0   \n",
       "1             185  ...                0                 0                 0   \n",
       "2             185  ...                0                 0                 0   \n",
       "3             184  ...                0                 0                 0   \n",
       "4             183  ...                0                 0                 0   \n",
       "\n",
       "   dorsal_pinky_2_x  dorsal_pinky_2_y  dorsal_pinky_3_x  dorsal_pinky_3_y  \\\n",
       "0                 0                 0                 0                 0   \n",
       "1                 0                 0                 0                 0   \n",
       "2                 0                 0                 0                 0   \n",
       "3                 0                 0                 0                 0   \n",
       "4                 0                 0                 0                 0   \n",
       "\n",
       "   dorsal_pinky_4_x  dorsal_pinky_4_y     label  \n",
       "0                 0                 0  openpalm  \n",
       "1                 0                 0  openpalm  \n",
       "2                 0                 0  openpalm  \n",
       "3                 0                 0  openpalm  \n",
       "4                 0                 0  openpalm  \n",
       "\n",
       "[5 rows x 81 columns]"
      ]
     },
     "execution_count": 23,
     "metadata": {},
     "output_type": "execute_result"
    }
   ],
   "source": [
    "data = pd.read_csv('Dataset_Subsystem_2.csv')\n",
    "data[\"label\"]=data[\"camera_facing_side\"]+data[\"gesture\"]\n",
    "del data[\"ID\"]\n",
    "del data[\"frame\"]\n",
    "del data[\"camera_facing_side\"]\n",
    "del data[\"gesture\"]\n",
    "data.head()"
   ]
  },
  {
   "cell_type": "code",
   "execution_count": 24,
   "metadata": {},
   "outputs": [
    {
     "data": {
      "text/html": [
       "<div>\n",
       "<style scoped>\n",
       "    .dataframe tbody tr th:only-of-type {\n",
       "        vertical-align: middle;\n",
       "    }\n",
       "\n",
       "    .dataframe tbody tr th {\n",
       "        vertical-align: top;\n",
       "    }\n",
       "\n",
       "    .dataframe thead th {\n",
       "        text-align: right;\n",
       "    }\n",
       "</style>\n",
       "<table border=\"1\" class=\"dataframe\">\n",
       "  <thead>\n",
       "    <tr style=\"text-align: right;\">\n",
       "      <th></th>\n",
       "      <th>palm_root_x</th>\n",
       "      <th>palm_root_y</th>\n",
       "      <th>palm_thumb_1_x</th>\n",
       "      <th>palm_thumb_1_y</th>\n",
       "      <th>palm_thumb_2_x</th>\n",
       "      <th>palm_thumb_2_y</th>\n",
       "      <th>palm_thumb_3_x</th>\n",
       "      <th>palm_thumb_3_y</th>\n",
       "      <th>palm_index_1_x</th>\n",
       "      <th>palm_index_1_y</th>\n",
       "      <th>...</th>\n",
       "      <th>dorsal_ring_4_y</th>\n",
       "      <th>dorsal_pinky_1_x</th>\n",
       "      <th>dorsal_pinky_1_y</th>\n",
       "      <th>dorsal_pinky_2_x</th>\n",
       "      <th>dorsal_pinky_2_y</th>\n",
       "      <th>dorsal_pinky_3_x</th>\n",
       "      <th>dorsal_pinky_3_y</th>\n",
       "      <th>dorsal_pinky_4_x</th>\n",
       "      <th>dorsal_pinky_4_y</th>\n",
       "      <th>label</th>\n",
       "    </tr>\n",
       "  </thead>\n",
       "  <tbody>\n",
       "    <tr>\n",
       "      <th>0</th>\n",
       "      <td>494</td>\n",
       "      <td>295</td>\n",
       "      <td>412</td>\n",
       "      <td>266</td>\n",
       "      <td>376</td>\n",
       "      <td>243</td>\n",
       "      <td>346</td>\n",
       "      <td>225</td>\n",
       "      <td>434</td>\n",
       "      <td>186</td>\n",
       "      <td>...</td>\n",
       "      <td>0</td>\n",
       "      <td>0</td>\n",
       "      <td>0</td>\n",
       "      <td>0</td>\n",
       "      <td>0</td>\n",
       "      <td>0</td>\n",
       "      <td>0</td>\n",
       "      <td>0</td>\n",
       "      <td>0</td>\n",
       "      <td>3</td>\n",
       "    </tr>\n",
       "    <tr>\n",
       "      <th>1</th>\n",
       "      <td>493</td>\n",
       "      <td>294</td>\n",
       "      <td>410</td>\n",
       "      <td>266</td>\n",
       "      <td>375</td>\n",
       "      <td>243</td>\n",
       "      <td>345</td>\n",
       "      <td>225</td>\n",
       "      <td>433</td>\n",
       "      <td>185</td>\n",
       "      <td>...</td>\n",
       "      <td>0</td>\n",
       "      <td>0</td>\n",
       "      <td>0</td>\n",
       "      <td>0</td>\n",
       "      <td>0</td>\n",
       "      <td>0</td>\n",
       "      <td>0</td>\n",
       "      <td>0</td>\n",
       "      <td>0</td>\n",
       "      <td>3</td>\n",
       "    </tr>\n",
       "    <tr>\n",
       "      <th>2</th>\n",
       "      <td>493</td>\n",
       "      <td>294</td>\n",
       "      <td>409</td>\n",
       "      <td>267</td>\n",
       "      <td>374</td>\n",
       "      <td>243</td>\n",
       "      <td>344</td>\n",
       "      <td>225</td>\n",
       "      <td>432</td>\n",
       "      <td>185</td>\n",
       "      <td>...</td>\n",
       "      <td>0</td>\n",
       "      <td>0</td>\n",
       "      <td>0</td>\n",
       "      <td>0</td>\n",
       "      <td>0</td>\n",
       "      <td>0</td>\n",
       "      <td>0</td>\n",
       "      <td>0</td>\n",
       "      <td>0</td>\n",
       "      <td>3</td>\n",
       "    </tr>\n",
       "    <tr>\n",
       "      <th>3</th>\n",
       "      <td>492</td>\n",
       "      <td>294</td>\n",
       "      <td>407</td>\n",
       "      <td>267</td>\n",
       "      <td>373</td>\n",
       "      <td>243</td>\n",
       "      <td>343</td>\n",
       "      <td>225</td>\n",
       "      <td>431</td>\n",
       "      <td>184</td>\n",
       "      <td>...</td>\n",
       "      <td>0</td>\n",
       "      <td>0</td>\n",
       "      <td>0</td>\n",
       "      <td>0</td>\n",
       "      <td>0</td>\n",
       "      <td>0</td>\n",
       "      <td>0</td>\n",
       "      <td>0</td>\n",
       "      <td>0</td>\n",
       "      <td>3</td>\n",
       "    </tr>\n",
       "    <tr>\n",
       "      <th>4</th>\n",
       "      <td>491</td>\n",
       "      <td>294</td>\n",
       "      <td>405</td>\n",
       "      <td>267</td>\n",
       "      <td>373</td>\n",
       "      <td>243</td>\n",
       "      <td>342</td>\n",
       "      <td>225</td>\n",
       "      <td>430</td>\n",
       "      <td>183</td>\n",
       "      <td>...</td>\n",
       "      <td>0</td>\n",
       "      <td>0</td>\n",
       "      <td>0</td>\n",
       "      <td>0</td>\n",
       "      <td>0</td>\n",
       "      <td>0</td>\n",
       "      <td>0</td>\n",
       "      <td>0</td>\n",
       "      <td>0</td>\n",
       "      <td>3</td>\n",
       "    </tr>\n",
       "  </tbody>\n",
       "</table>\n",
       "<p>5 rows × 81 columns</p>\n",
       "</div>"
      ],
      "text/plain": [
       "   palm_root_x  palm_root_y  palm_thumb_1_x  palm_thumb_1_y  palm_thumb_2_x  \\\n",
       "0          494          295             412             266             376   \n",
       "1          493          294             410             266             375   \n",
       "2          493          294             409             267             374   \n",
       "3          492          294             407             267             373   \n",
       "4          491          294             405             267             373   \n",
       "\n",
       "   palm_thumb_2_y  palm_thumb_3_x  palm_thumb_3_y  palm_index_1_x  \\\n",
       "0             243             346             225             434   \n",
       "1             243             345             225             433   \n",
       "2             243             344             225             432   \n",
       "3             243             343             225             431   \n",
       "4             243             342             225             430   \n",
       "\n",
       "   palm_index_1_y  ...  dorsal_ring_4_y  dorsal_pinky_1_x  dorsal_pinky_1_y  \\\n",
       "0             186  ...                0                 0                 0   \n",
       "1             185  ...                0                 0                 0   \n",
       "2             185  ...                0                 0                 0   \n",
       "3             184  ...                0                 0                 0   \n",
       "4             183  ...                0                 0                 0   \n",
       "\n",
       "   dorsal_pinky_2_x  dorsal_pinky_2_y  dorsal_pinky_3_x  dorsal_pinky_3_y  \\\n",
       "0                 0                 0                 0                 0   \n",
       "1                 0                 0                 0                 0   \n",
       "2                 0                 0                 0                 0   \n",
       "3                 0                 0                 0                 0   \n",
       "4                 0                 0                 0                 0   \n",
       "\n",
       "   dorsal_pinky_4_x  dorsal_pinky_4_y  label  \n",
       "0                 0                 0      3  \n",
       "1                 0                 0      3  \n",
       "2                 0                 0      3  \n",
       "3                 0                 0      3  \n",
       "4                 0                 0      3  \n",
       "\n",
       "[5 rows x 81 columns]"
      ]
     },
     "execution_count": 24,
     "metadata": {},
     "output_type": "execute_result"
    }
   ],
   "source": [
    "number=LabelEncoder()\n",
    "data[\"label\"] = number.fit_transform(data[\"label\"].astype(str))\n",
    "data.head()"
   ]
  },
  {
   "cell_type": "code",
   "execution_count": 25,
   "metadata": {},
   "outputs": [
    {
     "data": {
      "text/plain": [
       "palm_root_x         0\n",
       "palm_root_y         0\n",
       "palm_thumb_1_x      0\n",
       "palm_thumb_1_y      0\n",
       "palm_thumb_2_x      0\n",
       "                   ..\n",
       "dorsal_pinky_3_x    0\n",
       "dorsal_pinky_3_y    0\n",
       "dorsal_pinky_4_x    0\n",
       "dorsal_pinky_4_y    0\n",
       "label               0\n",
       "Name: 528, Length: 81, dtype: int64"
      ]
     },
     "execution_count": 25,
     "metadata": {},
     "output_type": "execute_result"
    }
   ],
   "source": [
    "data.iloc[528]"
   ]
  },
  {
   "cell_type": "code",
   "execution_count": 26,
   "metadata": {},
   "outputs": [],
   "source": [
    "classes = {0:\"fistdorsal\", 1:\"fistpalm\", 2:\"opendorsal\", 3:\"openpalm\", 4:\"threefingersdorsal\", 5:\"threefingerspalm\"}"
   ]
  },
  {
   "cell_type": "markdown",
   "metadata": {},
   "source": [
    "##  Assigning the input data and labels to x and y"
   ]
  },
  {
   "cell_type": "code",
   "execution_count": 27,
   "metadata": {},
   "outputs": [],
   "source": [
    "X=np.asarray(data.loc[:, data.keys()[0:80]])\n",
    "Y=np.asarray(data[\"label\"])\n",
    "\n",
    "#x_train, x_test, y_train, y_test = train_test_split(X, Y, test_size = 0.2, random_state = 0)"
   ]
  },
  {
   "cell_type": "markdown",
   "metadata": {},
   "source": [
    "## Normalization"
   ]
  },
  {
   "cell_type": "code",
   "execution_count": 28,
   "metadata": {},
   "outputs": [],
   "source": [
    "def standardize(x):\n",
    "    scaled = StandardScaler()\n",
    "    x = scaled.fit_transform(x)\n",
    "    return(x)"
   ]
  },
  {
   "cell_type": "markdown",
   "metadata": {},
   "source": [
    "## Cross Validation"
   ]
  },
  {
   "cell_type": "code",
   "execution_count": null,
   "metadata": {},
   "outputs": [],
   "source": []
  },
  {
   "cell_type": "markdown",
   "metadata": {},
   "source": [
    "## Normal Split (70:30)"
   ]
  },
  {
   "cell_type": "code",
   "execution_count": 29,
   "metadata": {},
   "outputs": [
    {
     "data": {
      "text/plain": [
       "array([[0., 1., 0., 0., 0., 0.],\n",
       "       [0., 0., 0., 0., 0., 1.],\n",
       "       [0., 0., 0., 1., 0., 0.],\n",
       "       ...,\n",
       "       [0., 0., 1., 0., 0., 0.],\n",
       "       [1., 0., 0., 0., 0., 0.],\n",
       "       [0., 1., 0., 0., 0., 0.]], dtype=float32)"
      ]
     },
     "execution_count": 29,
     "metadata": {},
     "output_type": "execute_result"
    }
   ],
   "source": [
    "x_train, x_test, y_train, y_test = train_test_split(X, Y, test_size = 0.2, random_state = 0)\n",
    "encoder = sklearn.preprocessing.OneHotEncoder(dtype=np.float32)\n",
    "encoder.fit(y_train.reshape((-1, 1)))\n",
    "\n",
    "y_train_encoded = encoder.transform(y_train.reshape((-1, 1))).toarray()\n",
    "y_test_encoded = encoder.transform(y_test.reshape((-1, 1))).toarray()\n",
    "y_test_encoded"
   ]
  },
  {
   "cell_type": "markdown",
   "metadata": {},
   "source": [
    "## Logistic Regression "
   ]
  },
  {
   "cell_type": "code",
   "execution_count": 45,
   "metadata": {},
   "outputs": [
    {
     "name": "stdout",
     "output_type": "stream",
     "text": [
      "X_train.shape:  (49775, 80) \n",
      " X_test.shape:  (12444, 80)\n",
      "y_train.shape:  (49775,) \n",
      " y_test.shape:  (12444,)\n",
      "Test accuracy: 1.0\n"
     ]
    }
   ],
   "source": [
    "print('X_train.shape: ', x_train.shape, '\\n X_test.shape: ', x_test.shape)\n",
    "print('y_train.shape: ', y_train.shape, '\\n y_test.shape: ', y_test.shape)\n",
    "clf = LogisticRegression(penalty='l1', C=100, solver='liblinear')\n",
    "clf.fit(x_train, y_train)\n",
    "print('Test accuracy:', clf.score(x_test, y_test))"
   ]
  },
  {
   "cell_type": "markdown",
   "metadata": {},
   "source": [
    "## ML Model"
   ]
  },
  {
   "cell_type": "code",
   "execution_count": 31,
   "metadata": {},
   "outputs": [],
   "source": [
    "def get_compiled_model():\n",
    "    model = keras.Sequential([\n",
    "    keras.layers.Dense(10, activation='relu'),\n",
    "    keras.layers.Dense(6)\n",
    "])\n",
    "\n",
    "    model.compile(optimizer='adam',\n",
    "                loss=tf.keras.losses.SparseCategoricalCrossentropy(from_logits=True),\n",
    "                metrics=['accuracy'])\n",
    "    return model\n"
   ]
  },
  {
   "cell_type": "code",
   "execution_count": 32,
   "metadata": {},
   "outputs": [
    {
     "name": "stdout",
     "output_type": "stream",
     "text": [
      "Train on 49775 samples\n",
      "Epoch 1/7\n",
      "49775/49775 [==============================] - 2s 41us/sample - loss: 1.2703 - accuracy: 0.9280\n",
      "Epoch 2/7\n",
      "49775/49775 [==============================] - 2s 34us/sample - loss: 0.0980 - accuracy: 0.9805\n",
      "Epoch 3/7\n",
      "49775/49775 [==============================] - 2s 34us/sample - loss: 0.0390 - accuracy: 0.9913\n",
      "Epoch 4/7\n",
      "49775/49775 [==============================] - 2s 33us/sample - loss: 0.0282 - accuracy: 0.9924\n",
      "Epoch 5/7\n",
      "49775/49775 [==============================] - 2s 34us/sample - loss: 0.0172 - accuracy: 0.9970\n",
      "Epoch 6/7\n",
      "49775/49775 [==============================] - 2s 34us/sample - loss: 0.0091 - accuracy: 0.9972\n",
      "Epoch 7/7\n",
      "49775/49775 [==============================] - 2s 34us/sample - loss: 0.0022 - accuracy: 0.9999\n"
     ]
    },
    {
     "data": {
      "text/plain": [
       "<tensorflow.python.keras.callbacks.History at 0x1ba4f31b408>"
      ]
     },
     "execution_count": 32,
     "metadata": {},
     "output_type": "execute_result"
    }
   ],
   "source": [
    "model = get_compiled_model()\n",
    "model.fit(x_train,y_train,epochs=7)"
   ]
  },
  {
   "cell_type": "code",
   "execution_count": 33,
   "metadata": {},
   "outputs": [
    {
     "name": "stdout",
     "output_type": "stream",
     "text": [
      "Test accuracy: 100.00%\n"
     ]
    }
   ],
   "source": [
    "test_loss, test_accuracy = model.evaluate(x_test, y_test, verbose=0)\n",
    "print('Test accuracy: {:2.2f}%'.format(test_accuracy*100))\n",
    "prediction = model.predict(x_test)"
   ]
  },
  {
   "cell_type": "code",
   "execution_count": 34,
   "metadata": {},
   "outputs": [
    {
     "data": {
      "text/plain": [
       "array([[ 105.256386  ,  213.2424    ,   95.25954   ,  -29.602812  ,\n",
       "        -218.20049   ,   -7.383878  ],\n",
       "       [  63.319603  ,   39.054848  ,  109.0839    , -103.43826   ,\n",
       "          33.129345  ,  251.66284   ],\n",
       "       [  62.868866  ,  -56.759174  , -258.26614   ,  183.45058   ,\n",
       "          93.3043    ,  122.968185  ],\n",
       "       ...,\n",
       "       [  -1.6804547 ,   11.523974  ,   17.171097  ,   -6.4915457 ,\n",
       "         -17.520985  ,    2.1765556 ],\n",
       "       [ 111.296104  ,   82.08705   ,   -0.37081218,    1.462051  ,\n",
       "         -10.272417  ,  -21.572626  ],\n",
       "       [ -10.795582  ,  261.84317   ,  257.11078   ,  -94.691086  ,\n",
       "        -321.41022   ,   67.96891   ]], dtype=float32)"
      ]
     },
     "execution_count": 34,
     "metadata": {},
     "output_type": "execute_result"
    }
   ],
   "source": [
    "prediction"
   ]
  },
  {
   "cell_type": "code",
   "execution_count": 35,
   "metadata": {},
   "outputs": [],
   "source": [
    "y_pred=[]\n",
    "for i in range(len(prediction)):\n",
    "    predicted_label=np.argmax(prediction[i])\n",
    "    y_pred.append(predicted_label)"
   ]
  },
  {
   "cell_type": "code",
   "execution_count": 36,
   "metadata": {},
   "outputs": [],
   "source": [
    "y_pred_1=np.array(y_pred)\n",
    "encoder.fit(y_pred_1.reshape((-1, 1)))\n",
    "y_pred_encoded = encoder.transform(y_pred_1.reshape((-1, 1))).toarray()"
   ]
  },
  {
   "cell_type": "code",
   "execution_count": 37,
   "metadata": {},
   "outputs": [
    {
     "data": {
      "text/plain": [
       "array([[0., 1., 0., 0., 0., 0.],\n",
       "       [0., 0., 0., 0., 0., 1.],\n",
       "       [0., 0., 0., 1., 0., 0.],\n",
       "       ...,\n",
       "       [0., 0., 1., 0., 0., 0.],\n",
       "       [1., 0., 0., 0., 0., 0.],\n",
       "       [0., 1., 0., 0., 0., 0.]], dtype=float32)"
      ]
     },
     "execution_count": 37,
     "metadata": {},
     "output_type": "execute_result"
    }
   ],
   "source": [
    "y_pred_encoded"
   ]
  },
  {
   "cell_type": "markdown",
   "metadata": {},
   "source": [
    "## Classification Report"
   ]
  },
  {
   "cell_type": "code",
   "execution_count": 38,
   "metadata": {},
   "outputs": [],
   "source": [
    "import matplotlib.pyplot as plt\n",
    "plt.rcParams['figure.figsize'] = [10, 10]"
   ]
  },
  {
   "cell_type": "code",
   "execution_count": 39,
   "metadata": {
    "scrolled": true
   },
   "outputs": [
    {
     "name": "stdout",
     "output_type": "stream",
     "text": [
      "                      precision    recall  f1-score   support\n",
      "\n",
      "         fist dorsal       1.00      1.00      1.00      2095\n",
      "           fist palm       1.00      1.00      1.00      1967\n",
      "         open dorsal       1.00      1.00      1.00      2147\n",
      "           open palm       1.00      1.00      1.00      2186\n",
      "three fingers dorsal       1.00      1.00      1.00      2097\n",
      "  three fingers palm       1.00      1.00      1.00      1952\n",
      "\n",
      "           micro avg       1.00      1.00      1.00     12444\n",
      "           macro avg       1.00      1.00      1.00     12444\n",
      "        weighted avg       1.00      1.00      1.00     12444\n",
      "         samples avg       1.00      1.00      1.00     12444\n",
      "\n"
     ]
    }
   ],
   "source": [
    "labels = [\"fist dorsal\", \"fist palm\", \"open dorsal\", \"open palm\", \"three fingers dorsal\", \"three fingers palm\"]\n",
    "print(classification_report(y_test_encoded, y_pred_encoded, target_names=labels))\n",
    "#plt.show()"
   ]
  },
  {
   "cell_type": "markdown",
   "metadata": {},
   "source": [
    "## Confusion Matrix"
   ]
  },
  {
   "cell_type": "code",
   "execution_count": 52,
   "metadata": {},
   "outputs": [
    {
     "data": {
      "text/plain": [
       "array([[10492,     0],\n",
       "       [    0,  1952]], dtype=int64)"
      ]
     },
     "execution_count": 52,
     "metadata": {},
     "output_type": "execute_result"
    }
   ],
   "source": [
    "from sklearn.metrics import multilabel_confusion_matrix\n",
    "import matplotlib.pyplot as plt\n",
    "from mlxtend.evaluate import confusion_matrix\n",
    "from sklearn.metrics import ConfusionMatrixDisplay\n",
    "\n",
    "cm = multilabel_confusion_matrix(y_test, y_pred_1)\n",
    "cm[5]"
   ]
  },
  {
   "cell_type": "code",
   "execution_count": null,
   "metadata": {},
   "outputs": [],
   "source": []
  },
  {
   "cell_type": "code",
   "execution_count": null,
   "metadata": {},
   "outputs": [],
   "source": []
  }
 ],
 "metadata": {
  "kernelspec": {
   "display_name": "Python 3",
   "language": "python",
   "name": "python3"
  },
  "language_info": {
   "codemirror_mode": {
    "name": "ipython",
    "version": 3
   },
   "file_extension": ".py",
   "mimetype": "text/x-python",
   "name": "python",
   "nbconvert_exporter": "python",
   "pygments_lexer": "ipython3",
   "version": "3.7.7"
  }
 },
 "nbformat": 4,
 "nbformat_minor": 4
}
